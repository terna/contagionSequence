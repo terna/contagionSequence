{
 "cells": [
  {
   "cell_type": "code",
   "execution_count": 1,
   "metadata": {},
   "outputs": [
    {
     "data": {
      "application/javascript": [
       "// to avoid scroll in windows\n",
       "IPython.OutputArea.prototype._should_scroll = function(lines) {\n",
       "    return false;\n",
       "}\n"
      ],
      "text/plain": [
       "<IPython.core.display.Javascript object>"
      ]
     },
     "metadata": {},
     "output_type": "display_data"
    }
   ],
   "source": [
    "%%javascript\n",
    "// to avoid scroll in windows\n",
    "IPython.OutputArea.prototype._should_scroll = function(lines) {\n",
    "    return false;\n",
    "}"
   ]
  },
  {
   "cell_type": "markdown",
   "metadata": {},
   "source": [
    "NB - The sheet works with file with or without the group number at the end of each record; if missing, plots by group cannot be generated."
   ]
  },
  {
   "cell_type": "markdown",
   "metadata": {},
   "source": [
    "Each record of the file contains:\n",
    "\n",
    "0 - the ID of the agent transmitting the contagion (for the initial cases, externally generated, the ID has value -1);\n",
    "    \n",
    "1 - its contagion progressive number, starting from 1 (for the initial cases, externally generated, this value is 0);\n",
    "\n",
    "2 - the conventional color of the place where it turned infected, following the NetLogo color swatches (for the externally generated initial cases, this value is 0);\n",
    "\n",
    "3 - the ID of the agent receiving the contagion;\n",
    "\n",
    "4 - its fragility rate (1 - robust; 2 - regular; 3 - fragile; 4 - extra fragile);\n",
    "\n",
    "5 - its contagion progressive number;\n",
    "\n",
    "6 - the conventional color of the place where it is turning infected, following the NetLogo color swatches;\n",
    "\n",
    "7 - the day (tick) of the contagion (for the initial cases, externally generated, this value is 0);\n",
    "\n",
    "8 - the starting infection day, i.e., the previous value plus the *incubationPeriod* (for the externally generated initial cases, the starting infection value is 0);\n",
    "\n",
    "9 - the day of the conclusion of the infection, i.e., the previous value plus a value between the  *minInfectionDuration* and the *maxInfectionDuration* settings; this period stops if the agent deceases, but we do not consider that possibility here;\n",
    "\n",
    "10 - the symptomatic (1) or asymptomatic (2) status;\n",
    "\n",
    "11 - in files produced from April 18th, 2021: the statistical group of the subject as in *contagionSeriesByGroups.ipynb*."
   ]
  },
  {
   "cell_type": "markdown",
   "metadata": {},
   "source": [
    "colors https://matplotlib.org/3.3.0/tutorials/colors/colors.html\n",
    "\n",
    "line styles https://matplotlib.org/2.1.2/api/_as_gen/matplotlib.pyplot.plot.html"
   ]
  },
  {
   "cell_type": "markdown",
   "metadata": {},
   "source": [
    "We take into consideration seven groups in order of decreasing fragility if we also take into account the exposure to contagion:\n",
    "\n",
    "- g1\textra fragile people with three components;\n",
    "              people in nursing homes;\n",
    "              nursing homes operators;\n",
    "              healthcare operators;\n",
    "\n",
    "\n",
    "- g2\tteachers;\n",
    "\n",
    "- g3    workers with medical fragility;\n",
    "\n",
    "- g4    regular workers;\n",
    "\n",
    "- g5    fragile people without special characteristics;\n",
    "\n",
    "- g6    regular people, not young, not worker, and not teacher;\n",
    "\n",
    "- g7    young people excluding special activity cases (a limited number in \\emph{g1}).\n"
   ]
  },
  {
   "cell_type": "code",
   "execution_count": 2,
   "metadata": {},
   "outputs": [
    {
     "name": "stdout",
     "output_type": "stream",
     "text": [
      "0 Experiment_III_05bestGA.csv\n",
      "1 Experiment_III_05bestGAwithG.csv\n",
      "2 Experiment_III_05bestGAwithG_list.csv\n",
      "3 Experiment_III_0bestGA.csv\n",
      "4 Experiment_III_1bestGA.csv\n",
      "5 Experiment_III_base.csv\n",
      "6 Experiment_III_plain_0.csv\n",
      "7 Experiment_III_plain_05.csv\n",
      "8 Experiment_III_plain_1.csv\n",
      "9 Experiment_III_wise_0.csv\n",
      "10 Experiment_III_wise_05.csv\n",
      "11 Experiment_III_wise_1.csv\n",
      "12 Experiment_II_05bestGA.csv\n",
      "13 Experiment_II_0bestGA.csv\n",
      "14 Experiment_II_1bestGA.csv\n",
      "15 Experiment_II_base.csv\n",
      "16 Experiment_II_plain_0.csv\n",
      "17 Experiment_II_plain_05.csv\n",
      "18 Experiment_II_plain_1.csv\n",
      "19 Experiment_II_wise_0.csv\n",
      "20 Experiment_II_wise_05.csv\n",
      "21 Experiment_II_wise_1.csv\n",
      "22 Experiment_IV_05bestGA.csv\n",
      "23 Experiment_IV_0bestGA.csv\n",
      "24 Experiment_IV_1bestGA.csv\n",
      "25 Experiment_IV_base.csv\n",
      "26 Experiment_IV_plain_0.csv\n",
      "27 Experiment_IV_plain_05.csv\n",
      "28 Experiment_IV_plain_1.csv\n",
      "29 Experiment_IV_wise_0.csv\n",
      "30 Experiment_IV_wise_05.csv\n",
      "31 Experiment_IV_wise_1.csv\n",
      "32 Experiment_I_05bestGA.csv\n",
      "33 Experiment_I_0bestGA.csv\n",
      "34 Experiment_I_1bestGA.csv\n",
      "35 Experiment_I_base.csv\n",
      "36 Experiment_I_plain_0.csv\n",
      "37 Experiment_I_plain_05.csv\n",
      "38 Experiment_I_plain_1.csv\n",
      "39 Experiment_I_wise_0.csv\n",
      "40 Experiment_I_wise_05.csv\n",
      "41 Experiment_I_wise_1.csv\n",
      "42 ex123456_22313.csv\n",
      "43 ex123456_22314.csv\n",
      "44 ex123456_22314A.csv\n",
      "45 ex123456_22314B.csv\n",
      "46 ex123456_22315.csv\n",
      "47 noControl_10932215_10933923.csv\n",
      "48 noControl_12518034_12520144.csv\n",
      "49 noControl_13790741 13792228.csv\n",
      "50 provaConAdd.csv\n",
      "51 withControl_268411_270578.csv\n",
      "52 withControl_2722110_2723664.csv\n",
      "53 withControl_473323_474697.csv\n"
     ]
    }
   ],
   "source": [
    "import os\n",
    "import numpy as np\n",
    "from numpy import genfromtxt\n",
    "import matplotlib.pyplot as plt\n",
    "import colors\n",
    "\n",
    "# chosing a csv file in the current folder\n",
    "filesHere=os.listdir(\"./\")\n",
    "selected=[]\n",
    "for i in range(len(filesHere)):\n",
    "    if filesHere[i].find('.csv')>0: selected.append(filesHere[i])\n",
    "selected.sort()\n",
    "for i in range(len(selected)):\n",
    "    print (i, selected[i])"
   ]
  },
  {
   "cell_type": "code",
   "execution_count": 3,
   "metadata": {},
   "outputs": [
    {
     "name": "stdout",
     "output_type": "stream",
     "text": [
      "Choose a file via its number (>=0;<=53 6\n"
     ]
    }
   ],
   "source": [
    "num=int(input(\"Choose a file via its number (>=0;<=\"+str(len(selected)-1)+\" \"))\n",
    "fileName=selected[num]"
   ]
  },
  {
   "cell_type": "code",
   "execution_count": 4,
   "metadata": {},
   "outputs": [],
   "source": [
    "rec = genfromtxt(fileName, delimiter=',').astype(np.int64)\n",
    "if rec.shape[1]==12:gList = genfromtxt(fileName[:-4]+\"_list.csv\", delimiter=',').astype(np.int64)"
   ]
  },
  {
   "cell_type": "code",
   "execution_count": 5,
   "metadata": {},
   "outputs": [],
   "source": [
    "plt.rcParams[\"figure.figsize\"] = [16,9]\n",
    "plt.rcParams[\"xtick.labelsize\"] = 'xx-large'\n",
    "plt.rcParams[\"ytick.labelsize\"] = 'xx-large'\n",
    "plt.rcParams[\"axes.labelsize\"] = 'xx-large'"
   ]
  },
  {
   "cell_type": "code",
   "execution_count": 6,
   "metadata": {},
   "outputs": [
    {
     "data": {
      "text/plain": [
       "(503, 11)"
      ]
     },
     "execution_count": 6,
     "metadata": {},
     "output_type": "execute_result"
    }
   ],
   "source": [
    "rec.shape"
   ]
  },
  {
   "cell_type": "code",
   "execution_count": 12,
   "metadata": {},
   "outputs": [],
   "source": [
    "simulationDuration=rec[-1,9]+1"
   ]
  },
  {
   "cell_type": "code",
   "execution_count": 13,
   "metadata": {},
   "outputs": [
    {
     "data": {
      "text/plain": [
       "543"
      ]
     },
     "execution_count": 13,
     "metadata": {},
     "output_type": "execute_result"
    }
   ],
   "source": [
    "simulationDuration"
   ]
  },
  {
   "cell_type": "markdown",
   "metadata": {},
   "source": [
    "### Experiment denomination"
   ]
  },
  {
   "cell_type": "code",
   "execution_count": 14,
   "metadata": {},
   "outputs": [],
   "source": [
    "title=\"Experiment III bestGA, 50% contagion\""
   ]
  },
  {
   "cell_type": "markdown",
   "metadata": {},
   "source": [
    "### All groups, symptomatic and asymptomatic"
   ]
  },
  {
   "cell_type": "code",
   "execution_count": 15,
   "metadata": {},
   "outputs": [],
   "source": [
    "series=np.matrix(np.zeros([simulationDuration+1,4]))\n",
    "# col 0 - new cases\n",
    "# col 1 - dismissed\n",
    "# col 2 - cumulative number of cases\n",
    "# col 3 - daily stock"
   ]
  },
  {
   "cell_type": "code",
   "execution_count": 16,
   "metadata": {},
   "outputs": [],
   "source": [
    "# total\n",
    "for i in range(rec.shape[0]):\n",
    "    series[rec[i,8],0]+=1\n",
    "    series[rec[i,9],1]+=1\n",
    "series[0,2]=series[0,0]\n",
    "series[0,3]=series[0,0]\n",
    "for i in range(1,series.shape[0]):\n",
    "    series[i,2]=series[i-1,2]+series[i,0]\n",
    "    series[i,3]=series[i-1,3]+series[i,0]-series[i,1]"
   ]
  },
  {
   "cell_type": "code",
   "execution_count": 17,
   "metadata": {},
   "outputs": [
    {
     "data": {
      "text/plain": [
       "<matplotlib.legend.Legend at 0x7fa5ca90e2b0>"
      ]
     },
     "execution_count": 17,
     "metadata": {},
     "output_type": "execute_result"
    },
    {
     "data": {
      "image/png": "[encoded data removed]",
      "text/plain": [
       "<Figure size 1152x648 with 1 Axes>"
      ]
     },
     "metadata": {
      "needs_background": "light"
     },
     "output_type": "display_data"
    }
   ],
   "source": [
    "plt.xlim([0,series.shape[0]])\n",
    "line1,=plt.plot(series[:,0],\"k-\",linewidth=1,label='new cases')\n",
    "line2,=plt.plot(series[:,1],\"k:\",linewidth=1,label='dismissed')\n",
    "line3,=plt.plot(series[:,2],\"k-\",linewidth=2,label='cumulative number of cases')\n",
    "line4,=plt.plot(series[:,3],\"k:\",linewidth=2,label='daily stock')\n",
    "plt.plot([413, 413], [0, rec.shape[0]+1],\"k-\",linewidth=0.5)\n",
    "plt.title(title+\", symptomatic + asymptomatic people [population: 4350 individuals (000)]\")\n",
    "plt.ylabel(\"contagion number\")\n",
    "plt.xlabel(\"days\")\n",
    "plt.legend(handles=[line1,line2,line3,line4])"
   ]
  },
  {
   "cell_type": "markdown",
   "metadata": {},
   "source": [
    "### All groups, symptomatic"
   ]
  },
  {
   "cell_type": "code",
   "execution_count": null,
   "metadata": {},
   "outputs": [],
   "source": [
    "series=np.matrix(np.zeros([simulationDuration+1,4]))"
   ]
  },
  {
   "cell_type": "code",
   "execution_count": null,
   "metadata": {},
   "outputs": [],
   "source": [
    "# symptomatic\n",
    "for i in range(rec.shape[0]):\n",
    "    if rec[i,10]==1:\n",
    "        series[rec[i,8],0]+=1\n",
    "        series[rec[i,9],1]+=1\n",
    "series[0,2]=series[0,0]\n",
    "series[0,3]=series[0,0]\n",
    "for i in range(1,series.shape[0]):\n",
    "    series[i,2]=series[i-1,2]+series[i,0]\n",
    "    series[i,3]=series[i-1,3]+series[i,0]-series[i,1]"
   ]
  },
  {
   "cell_type": "code",
   "execution_count": null,
   "metadata": {},
   "outputs": [],
   "source": [
    "count=0\n",
    "for i in range(rec.shape[0]):\n",
    "    if rec[i,10]==1: count+=1"
   ]
  },
  {
   "cell_type": "code",
   "execution_count": null,
   "metadata": {},
   "outputs": [],
   "source": [
    "plt.xlim([0,series.shape[0]])\n",
    "line1,=plt.plot(series[:,0],\"k-\",linewidth=1,label='new cases')\n",
    "line2,=plt.plot(series[:,1],\"k:\",linewidth=1,label='dismissed')\n",
    "line3,=plt.plot(series[:,2],\"k-\",linewidth=2,label='cumulative number of cases')\n",
    "line4,=plt.plot(series[:,3],\"k:\",linewidth=2,label='daily stock')\n",
    "plt.plot([413, 413], [0, count+1],\"k-\",linewidth=0.5)\n",
    "plt.title(title+\", symptomatic people [population: 4350 individuals (000)]\")\n",
    "plt.ylabel(\"contagion number (000)\")\n",
    "plt.xlabel(\"days\")\n",
    "plt.legend(handles=[line1,line2,line3,line4])"
   ]
  },
  {
   "cell_type": "markdown",
   "metadata": {},
   "source": [
    "### Group 1, extra fragile people, symptomatic and asymptomatic"
   ]
  },
  {
   "cell_type": "code",
   "execution_count": null,
   "metadata": {},
   "outputs": [],
   "source": [
    "series=np.matrix(np.zeros([simulationDuration+1,4]))"
   ]
  },
  {
   "cell_type": "code",
   "execution_count": null,
   "metadata": {},
   "outputs": [],
   "source": [
    "if rec.shape[1]==12:\n",
    "    g=1\n",
    "    groupDef=\"extra fragile people\"\n",
    "    for i in range(rec.shape[0]):\n",
    "        if rec[i,11]==g:\n",
    "            series[rec[i,8],0]+=1\n",
    "            series[rec[i,9],1]+=1\n",
    "    series[0,2]=series[0,0]\n",
    "    series[0,3]=series[0,0]\n",
    "    for i in range(1,series.shape[0]):\n",
    "        series[i,2]=series[i-1,2]+series[i,0]\n",
    "        series[i,3]=series[i-1,3]+series[i,0]-series[i,1]"
   ]
  },
  {
   "cell_type": "code",
   "execution_count": null,
   "metadata": {},
   "outputs": [],
   "source": [
    "if rec.shape[1]==12:\n",
    "    count=0\n",
    "    for i in range(rec.shape[0]):\n",
    "        if rec[i,11]==g: count+=1"
   ]
  },
  {
   "cell_type": "code",
   "execution_count": null,
   "metadata": {},
   "outputs": [],
   "source": [
    "if rec.shape[1]==12:\n",
    "    plt.xlim([0,series.shape[0]])\n",
    "    line1,=plt.plot(series[:,0],color='orangered',linestyle=\"-\",linewidth=1,label='new cases')\n",
    "    line2,=plt.plot(series[:,1],color='orangered',linestyle=\":\",linewidth=1,label='dismissed')\n",
    "    line3,=plt.plot(series[:,2],color='orangered',linestyle=\"-\",linewidth=2,label='cumulative number of cases')\n",
    "    line4,=plt.plot(series[:,3],color='orangered',linestyle=\":\",linewidth=2,label='daily stock')\n",
    "    plt.plot([413, 413], [0, count+1],\"k-\",linewidth=0.5)\n",
    "    plt.title(title+\", symptomatic + asymptomatic people, group \"+str(g)+\", \"+groupDef+\" [population: \"+str(gList[g*2-1])+\\\n",
    "              \" individuals (000)]\")\n",
    "    plt.ylabel(\"contagion number\")\n",
    "    plt.xlabel(\"days\")\n",
    "    plt.legend(handles=[line1,line2,line3,line4])"
   ]
  },
  {
   "cell_type": "markdown",
   "metadata": {},
   "source": [
    "### Group 1, extra fragile people, symptomatic"
   ]
  },
  {
   "cell_type": "code",
   "execution_count": null,
   "metadata": {},
   "outputs": [],
   "source": [
    "series=np.matrix(np.zeros([simulationDuration+1,4]))"
   ]
  },
  {
   "cell_type": "code",
   "execution_count": null,
   "metadata": {},
   "outputs": [],
   "source": [
    "if rec.shape[1]==12:\n",
    "    g=1\n",
    "    groupDef=\"extra fragile people\"\n",
    "    # symptomatic\n",
    "    for i in range(rec.shape[0]):\n",
    "        if rec[i,10]==1 and rec[i,11]==g:\n",
    "            series[rec[i,8],0]+=1\n",
    "            series[rec[i,9],1]+=1\n",
    "    series[0,2]=series[0,0]\n",
    "    series[0,3]=series[0,0]\n",
    "    for i in range(1,series.shape[0]):\n",
    "        series[i,2]=series[i-1,2]+series[i,0]\n",
    "        series[i,3]=series[i-1,3]+series[i,0]-series[i,1]"
   ]
  },
  {
   "cell_type": "code",
   "execution_count": null,
   "metadata": {},
   "outputs": [],
   "source": [
    "if rec.shape[1]==12:\n",
    "    count=0\n",
    "    for i in range(rec.shape[0]):\n",
    "        if rec[i,10]==1 and rec[i,11]==g: count+=1"
   ]
  },
  {
   "cell_type": "code",
   "execution_count": null,
   "metadata": {},
   "outputs": [],
   "source": [
    "if rec.shape[1]==12:\n",
    "    plt.xlim([0,series.shape[0]])\n",
    "    line1,=plt.plot(series[:,0],color='orangered',linestyle=\"-\",linewidth=1,label='new cases')\n",
    "    line2,=plt.plot(series[:,1],color='orangered',linestyle=\":\",linewidth=1,label='dismissed')\n",
    "    line3,=plt.plot(series[:,2],color='orangered',linestyle=\"-\",linewidth=2,label='cumulative number of cases')\n",
    "    line4,=plt.plot(series[:,3],color='orangered',linestyle=\":\",linewidth=2,label='daily stock')\n",
    "    plt.plot([413, 413], [0, count+1],\"k-\",linewidth=0.5)\n",
    "    plt.title(title+\", symptomatic people, group \"+str(g)+\", \"+groupDef+\" [population: \"+str(gList[g*2-1])+\\\n",
    "              \" individuals (000)]\")\n",
    "    plt.ylabel(\"contagion number\")\n",
    "    plt.xlabel(\"days\")\n",
    "    plt.legend(handles=[line1,line2,line3,line4])"
   ]
  },
  {
   "cell_type": "markdown",
   "metadata": {},
   "source": [
    "### Group 2, teachers, symptomatic"
   ]
  },
  {
   "cell_type": "code",
   "execution_count": null,
   "metadata": {},
   "outputs": [],
   "source": [
    "series=np.matrix(np.zeros([simulationDuration+1,4]))"
   ]
  },
  {
   "cell_type": "code",
   "execution_count": null,
   "metadata": {},
   "outputs": [],
   "source": [
    "if rec.shape[1]==12:\n",
    "    g=2\n",
    "    groupDef=\"teachers\"\n",
    "    # symptomatic\n",
    "    for i in range(rec.shape[0]):\n",
    "        if rec[i,10]==1 and rec[i,11]==g:\n",
    "            series[rec[i,8],0]+=1\n",
    "            series[rec[i,9],1]+=1\n",
    "    series[0,2]=series[0,0]\n",
    "    series[0,3]=series[0,0]\n",
    "    for i in range(1,series.shape[0]):\n",
    "        series[i,2]=series[i-1,2]+series[i,0]\n",
    "        series[i,3]=series[i-1,3]+series[i,0]-series[i,1]"
   ]
  },
  {
   "cell_type": "code",
   "execution_count": null,
   "metadata": {},
   "outputs": [],
   "source": [
    "if rec.shape[1]==12:\n",
    "    count=0\n",
    "    for i in range(rec.shape[0]):\n",
    "        if rec[i,10]==1 and rec[i,11]==g: count+=1"
   ]
  },
  {
   "cell_type": "code",
   "execution_count": null,
   "metadata": {},
   "outputs": [],
   "source": [
    "if rec.shape[1]==12:\n",
    "    plt.xlim([0,series.shape[0]])\n",
    "    line1,=plt.plot(series[:,0],color='lime',linestyle=\"-\",linewidth=1,label='new cases')\n",
    "    line2,=plt.plot(series[:,1],color='lime',linestyle=\":\",linewidth=1,label='dismissed')\n",
    "    line3,=plt.plot(series[:,2],color='lime',linestyle=\"-\",linewidth=2,label='cumulative number of cases')\n",
    "    line4,=plt.plot(series[:,3],color='lime',linestyle=\":\",linewidth=2,label='daily stock')\n",
    "    plt.plot([413, 413], [0, count+1],\"k-\",linewidth=0.5)\n",
    "    plt.title(title+\", symptomatic people, group \"+str(g)+\", \"+groupDef+\" [population: \"+str(gList[g*2-1])+\\\n",
    "              \" individuals (000)]\")\n",
    "    plt.ylabel(\"contagion number\")\n",
    "    plt.xlabel(\"days\")\n",
    "    plt.legend(handles=[line1,line2,line3,line4])"
   ]
  },
  {
   "cell_type": "markdown",
   "metadata": {},
   "source": [
    "### Group 3, fragile workers, symptomatic"
   ]
  },
  {
   "cell_type": "code",
   "execution_count": null,
   "metadata": {},
   "outputs": [],
   "source": [
    "series=np.matrix(np.zeros([simulationDuration+1,4]))"
   ]
  },
  {
   "cell_type": "code",
   "execution_count": null,
   "metadata": {},
   "outputs": [],
   "source": [
    "if rec.shape[1]==12:\n",
    "    g=3\n",
    "    groupDef=\"fragile workers\"\n",
    "    # symptomatic\n",
    "    for i in range(rec.shape[0]):\n",
    "        if rec[i,10]==1 and rec[i,11]==g:\n",
    "            series[rec[i,8],0]+=1\n",
    "            series[rec[i,9],1]+=1\n",
    "    series[0,2]=series[0,0]\n",
    "    series[0,3]=series[0,0]\n",
    "    for i in range(1,series.shape[0]):\n",
    "        series[i,2]=series[i-1,2]+series[i,0]\n",
    "        series[i,3]=series[i-1,3]+series[i,0]-series[i,1]"
   ]
  },
  {
   "cell_type": "code",
   "execution_count": null,
   "metadata": {},
   "outputs": [],
   "source": [
    "if rec.shape[1]==12:\n",
    "    count=0\n",
    "    for i in range(rec.shape[0]):\n",
    "        if rec[i,10]==1 and rec[i,11]==g: count+=1"
   ]
  },
  {
   "cell_type": "code",
   "execution_count": null,
   "metadata": {},
   "outputs": [],
   "source": [
    "if rec.shape[1]==12:\n",
    "    plt.xlim([0,series.shape[0]])\n",
    "    line1,=plt.plot(series[:,0],color='maroon',linestyle=\"-\",linewidth=1,label='new cases')\n",
    "    line2,=plt.plot(series[:,1],color='maroon',linestyle=\":\",linewidth=1,label='dismissed')\n",
    "    line3,=plt.plot(series[:,2],color='maroon',linestyle=\"-\",linewidth=2,label='cumulative number of cases')\n",
    "    line4,=plt.plot(series[:,3],color='maroon',linestyle=\":\",linewidth=2,label='daily stock')\n",
    "    plt.plot([413, 413], [0, count+1],\"k-\",linewidth=0.5)\n",
    "    plt.title(title+\", symptomatic people, group \"+str(g)+\", \"+groupDef+\" [population: \"+str(gList[g*2-1])+\\\n",
    "              \" individuals (000)]\")\n",
    "    plt.ylabel(\"contagion number\")\n",
    "    plt.xlabel(\"days\")\n",
    "    plt.legend(handles=[line1,line2,line3,line4])"
   ]
  },
  {
   "cell_type": "markdown",
   "metadata": {},
   "source": [
    "### Group 4, workers, symptomatic"
   ]
  },
  {
   "cell_type": "code",
   "execution_count": null,
   "metadata": {},
   "outputs": [],
   "source": [
    "series=np.matrix(np.zeros([simulationDuration+1,4]))"
   ]
  },
  {
   "cell_type": "code",
   "execution_count": null,
   "metadata": {},
   "outputs": [],
   "source": [
    "if rec.shape[1]==12:\n",
    "    g=4\n",
    "    groupDef=\"workers\"\n",
    "    # symptomatic\n",
    "    for i in range(rec.shape[0]):\n",
    "        if rec[i,10]==1 and rec[i,11]==g:\n",
    "            series[rec[i,8],0]+=1\n",
    "            series[rec[i,9],1]+=1\n",
    "    series[0,2]=series[0,0]\n",
    "    series[0,3]=series[0,0]\n",
    "    for i in range(1,series.shape[0]):\n",
    "        series[i,2]=series[i-1,2]+series[i,0]\n",
    "        series[i,3]=series[i-1,3]+series[i,0]-series[i,1]"
   ]
  },
  {
   "cell_type": "code",
   "execution_count": null,
   "metadata": {},
   "outputs": [],
   "source": [
    "if rec.shape[1]==12:\n",
    "    count=0\n",
    "    for i in range(rec.shape[0]):\n",
    "        if rec[i,10]==1 and rec[i,11]==g: count+=1"
   ]
  },
  {
   "cell_type": "code",
   "execution_count": null,
   "metadata": {},
   "outputs": [],
   "source": [
    "if rec.shape[1]==12:\n",
    "    plt.xlim([0,series.shape[0]])\n",
    "    line1,=plt.plot(series[:,0],color='brown',linestyle=\"-\",linewidth=1,label='new cases')\n",
    "    line2,=plt.plot(series[:,1],color='brown',linestyle=\":\",linewidth=1,label='dismissed')\n",
    "    line3,=plt.plot(series[:,2],color='brown',linestyle=\"-\",linewidth=2,label='cumulative number of cases')\n",
    "    line4,=plt.plot(series[:,3],color='brown',linestyle=\":\",linewidth=2,label='daily stock')\n",
    "    plt.plot([413, 413], [0, count+1],\"k-\",linewidth=0.5)\n",
    "    plt.title(title+\", symptomatic people, group \"+str(g)+\", \"+groupDef+\" [population: \"+str(gList[g*2-1])+\\\n",
    "              \" individuals (000)]\")\n",
    "    plt.ylabel(\"contagion number\")\n",
    "    plt.xlabel(\"days\")\n",
    "    plt.legend(handles=[line1,line2,line3,line4])"
   ]
  },
  {
   "cell_type": "markdown",
   "metadata": {},
   "source": [
    "### Group 5, fragile people, symptomatic"
   ]
  },
  {
   "cell_type": "code",
   "execution_count": null,
   "metadata": {},
   "outputs": [],
   "source": [
    "series=np.matrix(np.zeros([simulationDuration+1,4]))"
   ]
  },
  {
   "cell_type": "code",
   "execution_count": null,
   "metadata": {},
   "outputs": [],
   "source": [
    "if rec.shape[1]==12:\n",
    "    g=5\n",
    "    groupDef=\"fragile people\"\n",
    "    # symptomatic\n",
    "    for i in range(rec.shape[0]):\n",
    "        if rec[i,10]==1 and rec[i,11]==g:\n",
    "            series[rec[i,8],0]+=1\n",
    "            series[rec[i,9],1]+=1\n",
    "    series[0,2]=series[0,0]\n",
    "    series[0,3]=series[0,0]\n",
    "    for i in range(1,series.shape[0]):\n",
    "        series[i,2]=series[i-1,2]+series[i,0]\n",
    "        series[i,3]=series[i-1,3]+series[i,0]-series[i,1]"
   ]
  },
  {
   "cell_type": "code",
   "execution_count": null,
   "metadata": {},
   "outputs": [],
   "source": [
    "if rec.shape[1]==12:\n",
    "    count=0\n",
    "    for i in range(rec.shape[0]):\n",
    "        if rec[i,10]==1 and rec[i,11]==g: count+=1"
   ]
  },
  {
   "cell_type": "code",
   "execution_count": null,
   "metadata": {},
   "outputs": [],
   "source": [
    "if rec.shape[1]==12:\n",
    "    plt.xlim([0,series.shape[0]])\n",
    "    line1,=plt.plot(series[:,0],color='black',linestyle=\"-\",linewidth=1,label='new cases')\n",
    "    line2,=plt.plot(series[:,1],color='black',linestyle=\":\",linewidth=1,label='dismissed')\n",
    "    line3,=plt.plot(series[:,2],color='black',linestyle=\"-\",linewidth=2,label='cumulative number of cases')\n",
    "    line4,=plt.plot(series[:,3],color='black',linestyle=\":\",linewidth=2,label='daily stock')\n",
    "    plt.plot([413, 413], [0, count+1],\"k-\",linewidth=0.5)\n",
    "    plt.title(title+\", symptomatic people, group \"+str(g)+\", \"+groupDef+\" [population: \"+str(gList[g*2-1])+\\\n",
    "              \" individuals (000)]\")\n",
    "    plt.ylabel(\"contagion number\")\n",
    "    plt.xlabel(\"days\")\n",
    "    plt.legend(handles=[line1,line2,line3,line4])"
   ]
  },
  {
   "cell_type": "markdown",
   "metadata": {},
   "source": [
    "### Group 6, regular people, symptomatic"
   ]
  },
  {
   "cell_type": "code",
   "execution_count": null,
   "metadata": {},
   "outputs": [],
   "source": [
    "series=np.matrix(np.zeros([simulationDuration+1,4]))"
   ]
  },
  {
   "cell_type": "code",
   "execution_count": null,
   "metadata": {},
   "outputs": [],
   "source": [
    "if rec.shape[1]==12:\n",
    "    g=6\n",
    "    groupDef=\"regular people\"\n",
    "    # symptomatic\n",
    "    for i in range(rec.shape[0]):\n",
    "        if rec[i,10]==1 and rec[i,11]==g:\n",
    "            series[rec[i,8],0]+=1\n",
    "            series[rec[i,9],1]+=1\n",
    "    series[0,2]=series[0,0]\n",
    "    series[0,3]=series[0,0]\n",
    "    for i in range(1,series.shape[0]):\n",
    "        series[i,2]=series[i-1,2]+series[i,0]\n",
    "        series[i,3]=series[i-1,3]+series[i,0]-series[i,1]"
   ]
  },
  {
   "cell_type": "code",
   "execution_count": null,
   "metadata": {},
   "outputs": [],
   "source": [
    "if rec.shape[1]==12:\n",
    "    count=0\n",
    "    for i in range(rec.shape[0]):\n",
    "        if rec[i,10]==1 and rec[i,11]==g: count+=1"
   ]
  },
  {
   "cell_type": "code",
   "execution_count": null,
   "metadata": {},
   "outputs": [],
   "source": [
    "if rec.shape[1]==12:\n",
    "    plt.xlim([0,series.shape[0]])\n",
    "    line1,=plt.plot(series[:,0],color='dimgray',linestyle=\"-\",linewidth=1,label='new cases')\n",
    "    line2,=plt.plot(series[:,1],color='dimgray',linestyle=\":\",linewidth=1,label='dismissed')\n",
    "    line3,=plt.plot(series[:,2],color='dimgray',linestyle=\"-\",linewidth=2,label='cumulative number of cases')\n",
    "    line4,=plt.plot(series[:,3],color='dimgray',linestyle=\":\",linewidth=2,label='daily stock')\n",
    "    plt.plot([413, 413], [0, count+1],\"k-\",linewidth=0.5)\n",
    "    plt.title(title+\", symptomatic people, group \"+str(g)+\", \"+groupDef+\" [population: \"+str(gList[g*2-1])+\\\n",
    "              \" individuals (000)]\")\n",
    "    plt.ylabel(\"contagion number\")\n",
    "    plt.xlabel(\"days\")\n",
    "    plt.legend(handles=[line1,line2,line3,line4])"
   ]
  },
  {
   "cell_type": "markdown",
   "metadata": {},
   "source": [
    "### Group 7, young people, symptomatic"
   ]
  },
  {
   "cell_type": "code",
   "execution_count": null,
   "metadata": {},
   "outputs": [],
   "source": [
    "series=np.matrix(np.zeros([simulationDuration+1,4]))"
   ]
  },
  {
   "cell_type": "code",
   "execution_count": null,
   "metadata": {},
   "outputs": [],
   "source": [
    "if rec.shape[1]==12:\n",
    "    g=7\n",
    "    groupDef=\"young people\"\n",
    "    # symptomatic\n",
    "    for i in range(rec.shape[0]):\n",
    "        if rec[i,10]==1 and rec[i,11]==g:\n",
    "            series[rec[i,8],0]+=1\n",
    "            series[rec[i,9],1]+=1\n",
    "    series[0,2]=series[0,0]\n",
    "    series[0,3]=series[0,0]\n",
    "    for i in range(1,series.shape[0]):\n",
    "        series[i,2]=series[i-1,2]+series[i,0]\n",
    "        series[i,3]=series[i-1,3]+series[i,0]-series[i,1]"
   ]
  },
  {
   "cell_type": "code",
   "execution_count": null,
   "metadata": {},
   "outputs": [],
   "source": [
    "if rec.shape[1]==12:\n",
    "    count=0\n",
    "    for i in range(rec.shape[0]):\n",
    "        if rec[i,10]==1 and rec[i,11]==g: count+=1"
   ]
  },
  {
   "cell_type": "code",
   "execution_count": null,
   "metadata": {},
   "outputs": [],
   "source": [
    "if rec.shape[1]==12:\n",
    "    plt.xlim([0,series.shape[0]])\n",
    "    line1,=plt.plot(series[:,0],color='dimgray',linestyle=\"-\",linewidth=1,label='new cases')\n",
    "    line2,=plt.plot(series[:,1],color='dimgray',linestyle=\":\",linewidth=1,label='dismissed')\n",
    "    line3,=plt.plot(series[:,2],color='dimgray',linestyle=\"-\",linewidth=2,label='cumulative number of cases')\n",
    "    line4,=plt.plot(series[:,3],color='dimgray',linestyle=\":\",linewidth=2,label='daily stock')\n",
    "    plt.plot([413, 413], [0, count+1],\"k-\",linewidth=0.5)\n",
    "    plt.title(title+\", symptomatic people, group \"+str(g)+\", \"+groupDef+\" [population: \"+str(gList[g*2-1])+\\\n",
    "              \" individuals (000)]\")\n",
    "    plt.ylabel(\"contagion number\")\n",
    "    plt.xlabel(\"days\")\n",
    "    plt.legend(handles=[line1,line2,line3,line4])"
   ]
  },
  {
   "cell_type": "code",
   "execution_count": null,
   "metadata": {},
   "outputs": [],
   "source": []
  }
 ],
 "metadata": {
  "kernelspec": {
   "display_name": "Python 3",
   "language": "python",
   "name": "python3"
  },
  "language_info": {
   "codemirror_mode": {
    "name": "ipython",
    "version": 3
   },
   "file_extension": ".py",
   "mimetype": "text/x-python",
   "name": "python",
   "nbconvert_exporter": "python",
   "pygments_lexer": "ipython3",
   "version": "3.9.4"
  }
 },
 "nbformat": 4,
 "nbformat_minor": 4
}
