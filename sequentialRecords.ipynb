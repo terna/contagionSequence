{
 "cells": [
  {
   "cell_type": "markdown",
   "metadata": {},
   "source": [
    "Each record of the file contains:\n",
    "\n",
    "0 - the ID of the agent transmitting the contagion (for the initial cases, externally generated, the ID has value -1);\n",
    "    \n",
    "1 - its contagion progressive number, starting from 1 (for the initial cases, externally generated, this value is 0);\n",
    "\n",
    "2 - the conventional color of the place where it turned infected, following the NetLogo color swatches (for the externally generated initial cases, this value is 0);\n",
    "\n",
    "3 - the ID of the agent receiving the contagion;\n",
    "\n",
    "4 - its fragility rate (1 - robust; 2 - regular; 3 - fragile; 4 - extra fragile);\n",
    "\n",
    "5 - its contagion progressive number;\n",
    "\n",
    "6 - the conventional color of the place where it is turning infected, following the NetLogo color swatches;\n",
    "\n",
    "7 - the day (tick) of the contagion (for the initial cases, externally generated, this value is 0);\n",
    "\n",
    "8 - the starting infection day, i.e., the previous value plus the *incubationPeriod* (for the externally generated initial cases, the starting infection value is 0);\n",
    "\n",
    "9 - the day of the conclusion of the infection, i.e., the previous value plus a value between the  *minInfectionDuration* and the *maxInfectionDuration* settings; this period stops if the agent deceases, but we do not consider that possibility here;\n",
    "\n",
    "10 - the symptomatic (1) or asymptomatic (2) status."
   ]
  },
  {
   "cell_type": "markdown",
   "metadata": {},
   "source": [
    "colors https://matplotlib.org/3.3.0/tutorials/colors/colors.html\n",
    "\n",
    "line styles https://matplotlib.org/2.1.2/api/_as_gen/matplotlib.pyplot.plot.html"
   ]
  },
  {
   "cell_type": "code",
   "execution_count": 1,
   "metadata": {
    "scrolled": true
   },
   "outputs": [
    {
     "name": "stdout",
     "output_type": "stream",
     "text": [
      "0 ex123456_22313.csv\n",
      "1 ex123456_22314.csv\n",
      "2 ex123456_22314A.csv\n",
      "3 ex123456_22314B.csv\n",
      "4 ex123456_22315.csv\n",
      "5 noControl_10932215_10933923.csv\n",
      "6 noControl_12518034_12520144.csv\n",
      "7 noControl_13790741 13792228.csv\n",
      "8 withControl_268411_270578.csv\n",
      "9 withControl_2722110_2723664.csv\n",
      "10 withControl_473323_474697.csv\n"
     ]
    }
   ],
   "source": [
    "import os\n",
    "import numpy as np\n",
    "from numpy import genfromtxt\n",
    "import matplotlib.pyplot as plt\n",
    "import colors\n",
    "\n",
    "# chosing a csv file in the current folder\n",
    "filesHere=os.listdir(\"./\")\n",
    "selected=[]\n",
    "for i in range(len(filesHere)):\n",
    "    if filesHere[i].find('.csv')>0: selected.append(filesHere[i])\n",
    "selected.sort()\n",
    "for i in range(len(selected)):\n",
    "    print (i, selected[i])"
   ]
  },
  {
   "cell_type": "code",
   "execution_count": 2,
   "metadata": {
    "scrolled": true
   },
   "outputs": [
    {
     "name": "stdout",
     "output_type": "stream",
     "text": [
      "Choose a file via its number (>=0;<=10 3\n"
     ]
    }
   ],
   "source": [
    "num=int(input(\"Choose a file via its number (>=0;<=\"+str(len(selected)-1)+\" \"))\n",
    "fileName=selected[num]"
   ]
  },
  {
   "cell_type": "code",
   "execution_count": 3,
   "metadata": {
    "scrolled": true
   },
   "outputs": [],
   "source": [
    "rec = genfromtxt(fileName, delimiter=',').astype(np.int64)"
   ]
  },
  {
   "cell_type": "markdown",
   "metadata": {},
   "source": [
    "### Legenda\n",
    "\n",
    "<font size = 4 >\n",
    "black = contagion by an external unidentified agent  \n",
    "    \n",
    "<span style=\"color: gray;\">gray = </span>contagion in an empty or open space  \n",
    "<span style=\"color: orange;\">orange = </span>contagion in a nursing home  \n",
    "<span style=\"color: brown;\">brown = </span>contagion in a factory/office/shop  \n",
    "<span style=\"color: yellow;\">yellow = </span>contagion in a school  \n",
    "<span style=\"color: cyan;\">cyan = </span>contagion at home  \n",
    "<span style=\"color: pink;\">pink = </span>contagion in a hospital\n",
    "    \n",
    "horizontal lines style: incubation (dotted line); symptomatic (solid line);  \n",
    "                                            asymptomatic (dashed line) \n",
    "\n",
    "horizontal lines thickness: robust (lw = 1); regular (lw = 2); fragile (lw = 3); extra-fragile (lw = 4)"
   ]
  },
  {
   "cell_type": "code",
   "execution_count": 4,
   "metadata": {
    "scrolled": false
   },
   "outputs": [
    {
     "data": {
      "image/png": "[encoded data removed]",
      "text/plain": [
       "<Figure size 1152x648 with 1 Axes>"
      ]
     },
     "metadata": {
      "needs_background": "light"
     },
     "output_type": "display_data"
    }
   ],
   "source": [
    "plt.rcParams[\"figure.figsize\"] = [16,9]\n",
    "plt.rcParams[\"xtick.labelsize\"] = 'xx-large'\n",
    "plt.rcParams[\"ytick.labelsize\"] = 'xx-large'\n",
    "plt.rcParams[\"axes.labelsize\"] = 'xx-large'\n",
    "fig=plt.figure()\n",
    "ax = fig.add_subplot()\n",
    "ax.set_xlabel(\"t - individual infections starting and ending at time t\")\n",
    "ax.set_ylabel(\"agents (in order of infection)\")\n",
    "\n",
    "for i in range(rec.shape[0]):\n",
    "    #vertical line\n",
    "    plt.plot([rec[i,7],rec[i,7]],[rec[i,1],rec[i,5]],'k-',lw=3,color=colors.color(rec[i,2]))\n",
    "    #horizontal lines: incubation (dotted line); symptomatic (solid line); \n",
    "    #                  asymptomatic (dashed line); \n",
    "    plt.plot([rec[i,7],rec[i,8]],[rec[i,5],rec[i,5]],'k:',lw=rec[i,4],\n",
    "             color=colors.color(rec[i,6]))\n",
    "    lineS='-'\n",
    "    if rec[i,10] == 2: lineS='--'\n",
    "    plt.plot([rec[i,8],rec[i,9]],[rec[i,5],rec[i,5]],lineS,lw=rec[i,4],\n",
    "             color=colors.color(rec[i,6]))"
   ]
  },
  {
   "cell_type": "markdown",
   "metadata": {},
   "source": [
    "## The initial 200 cases"
   ]
  },
  {
   "cell_type": "code",
   "execution_count": 5,
   "metadata": {
    "scrolled": true
   },
   "outputs": [],
   "source": [
    "if rec.shape[0] > 200:\n",
    "  fig=plt.figure()\n",
    "  ax = fig.add_subplot()\n",
    "  ax.set_xlabel(\"t - individual infections starting and ending at time t\")\n",
    "  ax.set_ylabel(\"agents (in order of infection)\")\n",
    "\n",
    "  for i in range(200):\n",
    "    #vertical line\n",
    "    plt.plot([rec[i,7],rec[i,7]],[rec[i,1],rec[i,5]],'k-',lw=3,color=colors.color(rec[i,2]))\n",
    "    #horizontal lines: incubation (dotted line); symptomatic (solid line); \n",
    "    #                  asymptomatic (dashed line); \n",
    "    plt.plot([rec[i,7],rec[i,8]],[rec[i,5],rec[i,5]],'k:',lw=rec[i,4],\n",
    "             color=colors.color(rec[i,6]))\n",
    "    lineS='-'\n",
    "    if rec[i,10] == 2: lineS='--'\n",
    "    plt.plot([rec[i,8],rec[i,9]],[rec[i,5],rec[i,5]],lineS,lw=rec[i,4],\n",
    "             color=colors.color(rec[i,6]))"
   ]
  },
  {
   "cell_type": "code",
   "execution_count": null,
   "metadata": {
    "scrolled": true
   },
   "outputs": [],
   "source": []
  }
 ],
 "metadata": {
  "kernelspec": {
   "display_name": "Python 3",
   "language": "python",
   "name": "python3"
  },
  "language_info": {
   "codemirror_mode": {
    "name": "ipython",
    "version": 3
   },
   "file_extension": ".py",
   "mimetype": "text/x-python",
   "name": "python",
   "nbconvert_exporter": "python",
   "pygments_lexer": "ipython3",
   "version": "3.8.5"
  }
 },
 "nbformat": 4,
 "nbformat_minor": 2
}
